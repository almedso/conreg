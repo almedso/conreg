{
 "cells": [
  {
   "cell_type": "markdown",
   "metadata": {},
   "source": [
    "# Ramp"
   ]
  },
  {
   "cell_type": "code",
   "execution_count": 2,
   "metadata": {},
   "outputs": [],
   "source": [
    ":dep plotters = { git = \"https://github.com/38/plotters\", default_features = false, features = [\"evcxr\", \"all_series\", \"all_elements\"] }\n",
    "\n",
    ":dep steer-and-control = { git = \"https://github.com/almedso/steer-and-control\", default_features = false, features = [\"std\"] }"
   ]
  },
  {
   "cell_type": "code",
   "execution_count": 3,
   "metadata": {},
   "outputs": [],
   "source": [
    "use steer_and_control::steerer::ramp::{Ramp, RampParameter};\n",
    "use std::iter;\n",
    "\n",
    "use plotters::prelude::*;\n",
    "use plotters::prelude::LineSeries;"
   ]
  },
  {
   "cell_type": "code",
   "execution_count": 9,
   "metadata": {},
   "outputs": [
    {
     "ename": "Error",
     "evalue": "field `position` of struct `GeneralizedPosition` is private",
     "output_type": "error",
     "traceback": [
      "let mut position: Vec<f32> = r.take(2000).map(|x| x.position).collect::<Vec<f32>>();",
      "\u001b[91m                                                    ^^^^^^^^\u001b[0m \u001b[94mprivate field\u001b[0m",
      "field `position` of struct `GeneralizedPosition` is private"
     ]
    }
   ],
   "source": [
    "const MAX_SPEED: f32 = 3.0;\n",
    "const MAX_ACCEL: f32 = 2.0;\n",
    "const MAX_JERK: f32 = 1.0;\n",
    "\n",
    "let rp = RampParameter::new(MAX_SPEED, MAX_ACCEL, MAX_JERK);\n",
    "println!(\"{:?}\", rp);\n",
    "let mut r = Ramp::new(rp);\n",
    "println!(\"Current generalized position{:?}\", r.get());\n",
    "\n",
    "// Position Mode: Stop in a distance of - 10\n",
    "r.set_target_distance(10.0);\n",
    "let mut position: Vec<f32> = r.take(2000).map(|x| x.position).collect::<Vec<f32>>();\n",
    "\n",
    "let figure = evcxr_figure((640, 480), |root| {\n",
    "    root.fill(&WHITE);\n",
    "    let mut chart = ChartBuilder::on(&root)\n",
    "        .caption(\"Position/speed/acceleration time diagram\", (\"Arial\", 24).into_font())\n",
    "        .margin(5)\n",
    "        .x_label_area_size(30)\n",
    "        .y_label_area_size(30)\n",
    "        .build_cartesian_2d(0.0f32..2.0f32, 0.0f32..10.0f32)?;\n",
    "\n",
    "    chart.configure_mesh().draw()?;\n",
    "\n",
    "    chart.draw_series(LineSeries::new(\n",
    "        (0..=2000).map(|x| ( x as f32 * 0.01)).zip(position),\n",
    "        &GREEN,\n",
    "    )).unwrap()\n",
    "        .label(\"Position\")\n",
    "        .legend(|(x,y)| PathElement::new(vec![(x,y), (x + 20,y)], &GREEN));\n",
    "    chart.draw_series(LineSeries::new(\n",
    "        (0..=2000).map(|x| ( x as f32 * 0.01, 1.0)),\n",
    "        &RED,\n",
    "    )).unwrap()\n",
    "        .label(\"Velocity\")\n",
    "        .legend(|(x,y)| PathElement::new(vec![(x,y), (x + 20,y)], &RED));\n",
    "    chart.draw_series(LineSeries::new(\n",
    "        (0..=2000).map(|x| ( x as f32 * 0.01, 2.0)),\n",
    "        &BLUE,\n",
    "    )).unwrap()\n",
    "        .label(\"Acceleration\")\n",
    "        .legend(|(x,y)| PathElement::new(vec![(x,y), (x + 20,y)], &BLUE));\n",
    "\n",
    "\n",
    "    chart.configure_series_labels()\n",
    "        .background_style(&WHITE.mix(0.8))\n",
    "        .border_style(&BLACK)\n",
    "        .draw()?;\n",
    "    Ok(())\n",
    "});\n",
    "figure"
   ]
  },
  {
   "cell_type": "code",
   "execution_count": 4,
   "metadata": {},
   "outputs": [
    {
     "name": "stdout",
     "output_type": "stream",
     "text": [
      "RampParameter { max_speed: 3.0, max_acceleration: 2.0, max_jerk: 1.0 }\n",
      "Current generalized positionGeneralizedPosition { position: 0.0, speed: 0.0, acceleration: 0.0 }\n",
      "Iterate: GeneralizedPosition { position: 0.0000000010000002, speed: 0.0000010000001, acceleration: 0.001 },\n",
      "Iterate: GeneralizedPosition { position: 0.0000000040000008, speed: 0.0000030000003, acceleration: 0.002 },\n",
      "Iterate: GeneralizedPosition { position: 0.000000010000001, speed: 0.000006, acceleration: 0.003 },\n",
      "Iterate: GeneralizedPosition { position: 0.000000020000002, speed: 0.000010000001, acceleration: 0.004 },\n",
      "Iterate: GeneralizedPosition { position: 0.000000035000006, speed: 0.000015000001, acceleration: 0.0050000004 },\n",
      "Iterate: GeneralizedPosition { position: 0.00000005600001, speed: 0.000021000002, acceleration: 0.0060000005 },\n",
      "Iterate: GeneralizedPosition { position: 0.000000084000014, speed: 0.000028000002, acceleration: 0.0070000007 },\n",
      "Iterate: GeneralizedPosition { position: 0.00000012000002, speed: 0.000036000005, acceleration: 0.008 },\n",
      "Iterate: GeneralizedPosition { position: 0.00000016500003, speed: 0.000045000008, acceleration: 0.009000001 },\n",
      "Iterate: GeneralizedPosition { position: 0.00000022000005, speed: 0.00005500001, acceleration: 0.010000001 },\n"
     ]
    }
   ],
   "source": [
    "const MAX_SPEED: f32 = 3.0;\n",
    "const MAX_ACCEL: f32 = 2.0;\n",
    "const MAX_JERK: f32 = 1.0;\n",
    "\n",
    "let rp = RampParameter::new(MAX_SPEED, MAX_ACCEL, MAX_JERK);\n",
    "println!(\"{:?}\", rp);\n",
    "let mut r = Ramp::new(rp);\n",
    "println!(\"Current generalized position{:?}\", r.get());\n",
    "\n",
    "// Position Mode: Stop in a distance of - 10\n",
    "r.set_target_distance(10.0);\n",
    "r.inspect( |val| println!(\"Iterate: {:?},\", val))\n",
    "  .take(10)  // Make sure we stop\n",
    "  .count();  // Consume the iterator"
   ]
  },
  {
   "cell_type": "code",
   "execution_count": null,
   "metadata": {},
   "outputs": [],
   "source": []
  }
 ],
 "metadata": {
  "kernelspec": {
   "display_name": "Rust",
   "language": "rust",
   "name": "rust"
  },
  "language_info": {
   "codemirror_mode": "rust",
   "file_extension": ".rs",
   "mimetype": "text/rust",
   "name": "Rust",
   "pygment_lexer": "rust",
   "version": ""
  }
 },
 "nbformat": 4,
 "nbformat_minor": 4
}
